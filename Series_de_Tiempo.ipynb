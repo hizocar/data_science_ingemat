{
  "cells": [
    {
      "cell_type": "markdown",
      "source": [
        "# Series de Tiempo\n",
        "\n",
        "Una serie de tiempo es una secuencia de observaciones tomadas secuencialmente en el tiempo. Por ejemplo, la altura de la marea cada día durante un mes, las ventas diarias de una empresa durante un año, o la temperatura horaria durante una semana, son todas series de tiempo.\n",
        "\n",
        "Las series de tiempo son importantes porque nos permiten entender patrones y tendencias en los datos a lo largo del tiempo. Esto es útil en una variedad de campos, desde las finanzas (por ejemplo, predecir precios de acciones) hasta la meteorología (por ejemplo, predecir el clima).\n",
        "\n",
        "En el siguiente ejemplo, vamos a generar una serie de tiempo simple y visualizarla usando Python y la biblioteca de visualización Seaborn."
      ],
      "metadata": {
        "noteable": {
          "cell_type": "markdown"
        }
      },
      "id": "f96d1b5d-4ea4-4055-8833-caf80ac76b68"
    },
    {
      "cell_type": "code",
      "source": [
        "# Importamos las bibliotecas necesarias\n",
        "import pandas as pd\n",
        "import numpy as np\n",
        "import seaborn as sns\n",
        "import matplotlib.pyplot as plt\n",
        "\n",
        "# Generamos una serie de tiempo simple\n",
        "np.random.seed(0)\n",
        "time = pd.date_range('2020-01-01', periods=200)\n",
        "series = pd.Series(np.random.randn(len(time)), index=time)\n",
        "\n",
        "# Visualizamos la serie de tiempo\n",
        "sns.lineplot(data=series)\n",
        "plt.title('Serie de Tiempo Aleatoria')\n",
        "plt.xlabel('Tiempo')\n",
        "plt.ylabel('Valor')\n",
        "plt.show()"
      ],
      "outputs": [],
      "execution_count": null,
      "metadata": {
        "noteable": {
          "cell_type": "code"
        },
        "ExecuteTime": {
          "start_time": "2023-07-09T20:50:57.117674+00:00",
          "end_time": "2023-07-09T20:50:58.451831+00:00"
        }
      },
      "id": "0245be4b-6d56-484f-9c4d-dbdbf612b4d7"
    },
    {
      "cell_type": "markdown",
      "source": [
        "## Definición Formal de una Serie de Tiempo\n",
        "\n",
        "Formalmente, una serie de tiempo puede ser vista como una realización de un proceso estocástico en el tiempo. Un proceso estocástico es una colección de variables aleatorias indexadas por el tiempo.\n",
        "\n",
        "Si denotamos la serie de tiempo como $\\{X_t\\}$, entonces $X_t$ es la variable aleatoria en el tiempo $t$. El conjunto completo $\\{X_t\\}$ para todos los tiempos $t$ es el proceso estocástico.\n",
        "\n",
        "Existen diferentes tipos de procesos estocásticos que se utilizan para modelar series de tiempo, dependiendo de las propiedades de la serie. Por ejemplo, si la serie es estacionaria (es decir, sus propiedades estadísticas no cambian con el tiempo), se pueden utilizar modelos como el modelo autorregresivo (AR), el modelo de media móvil (MA), o el modelo autorregresivo de media móvil (ARMA). Si la serie tiene una tendencia o una estacionalidad, se pueden utilizar modelos como el modelo autorregresivo integrado de media móvil (ARIMA) o el modelo de suavizado exponencial."
      ],
      "metadata": {
        "noteable": {
          "cell_type": "markdown"
        }
      },
      "id": "4220cc97-9745-4a23-84f6-b305c46b5825"
    },
    {
      "cell_type": "markdown",
      "source": [
        "## Estacionalidad en las Series de Tiempo\n",
        "\n",
        "La estacionalidad se refiere a las variaciones periódicas en una serie de tiempo. Por ejemplo, las ventas de helados pueden ser altas durante el verano y bajas durante el invierno, lo que constituiría una estacionalidad anual. De manera similar, las ventas de una tienda pueden ser altas durante el día y bajas durante la noche, lo que constituiría una estacionalidad diaria.\n",
        "\n",
        "Una serie de tiempo es estacionaria si sus propiedades estadísticas (como la media, la varianza y la autocorrelación) son constantes en el tiempo. Esto significa que no tiene tendencia ni estacionalidad. Por otro lado, una serie de tiempo que tiene una tendencia o una estacionalidad se dice que es no estacionaria.\n",
        "\n",
        "A continuación, vamos a generar una serie de tiempo estacionaria y una no estacionaria, y vamos a comprobar su estacionariedad utilizando el test de Dickey-Fuller aumentado, que es un método estadístico para probar la estacionariedad. También vamos a visualizar las series."
      ],
      "metadata": {
        "noteable": {
          "cell_type": "markdown"
        }
      },
      "id": "4afa2477-92cb-483f-af2b-7c630cae3182"
    },
    {
      "cell_type": "code",
      "source": [
        "# Importamos la biblioteca para el test de Dickey-Fuller\n",
        "from statsmodels.tsa.stattools import adfuller\n",
        "\n",
        "# Generamos una serie de tiempo estacionaria\n",
        "stationary_series = pd.Series(np.random.randn(200), index=pd.date_range('2020-01-01', periods=200))\n",
        "\n",
        "# Realizamos el test de Dickey-Fuller\n",
        "result = adfuller(stationary_series)\n",
        "print(f'P-value para la serie estacionaria: {result[1]}')\n",
        "\n",
        "# Visualizamos la serie de tiempo estacionaria\n",
        "sns.lineplot(data=stationary_series)\n",
        "plt.title('Serie de Tiempo Estacionaria')\n",
        "plt.xlabel('Tiempo')\n",
        "plt.ylabel('Valor')\n",
        "plt.show()\n",
        "\n",
        "# Generamos una serie de tiempo no estacionaria\n",
        "non_stationary_series = pd.Series(np.random.randn(200).cumsum(), index=pd.date_range('2020-01-01', periods=200))\n",
        "\n",
        "# Realizamos el test de Dickey-Fuller\n",
        "result = adfuller(non_stationary_series)\n",
        "print(f'P-value para la serie no estacionaria: {result[1]}')\n",
        "\n",
        "# Visualizamos la serie de tiempo no estacionaria\n",
        "sns.lineplot(data=non_stationary_series)\n",
        "plt.title('Serie de Tiempo No Estacionaria')\n",
        "plt.xlabel('Tiempo')\n",
        "plt.ylabel('Valor')\n",
        "plt.show()"
      ],
      "outputs": [],
      "execution_count": null,
      "metadata": {
        "noteable": {
          "cell_type": "code"
        },
        "ExecuteTime": {
          "start_time": "2023-07-09T20:55:23.286671+00:00",
          "end_time": "2023-07-09T20:55:24.362019+00:00"
        }
      },
      "id": "f26c9e59-2a50-42b1-b1b2-05d9a0303b67"
    },
    {
      "cell_type": "markdown",
      "source": [
        "## Test de Dickey-Fuller Aumentado\n",
        "\n",
        "El test de Dickey-Fuller aumentado (ADF) es un test estadístico que se utiliza para determinar si una serie de tiempo es estacionaria. El test se basa en la estimación de la siguiente regresión por mínimos cuadrados ordinarios:\n",
        "\n",
        "$$\\Delta y_t = \\alpha + \\beta t + \\gamma y_{t-1} + \\delta_1 \\Delta y_{t-1} + \\ldots + \\delta_{p-1} \\Delta y_{t-p+1} + \\varepsilon_t$$\n",
        "\n",
        "donde $\\Delta y_t = y_t - y_{t-1}$, $y_t$ es la serie de tiempo, $t$ es la tendencia, y $\\varepsilon_t$ es el término de error.\n",
        "\n",
        "La hipótesis nula del test es que $\\gamma = 0$, lo que indica que la serie de tiempo tiene una raíz unitaria y por lo tanto es no estacionaria. Si el p-value del test es menor que un nivel de significancia dado (por ejemplo, 0.05), entonces rechazamos la hipótesis nula y concluimos que la serie de tiempo es estacionaria.\n",
        "\n",
        "A continuación, vamos a realizar el test de Dickey-Fuller aumentado en una serie de tiempo."
      ],
      "metadata": {
        "noteable": {
          "cell_type": "markdown"
        }
      },
      "id": "a8dd1923-b07a-4879-833a-fff4a66b7fff"
    },
    {
      "cell_type": "code",
      "source": [
        "# Generamos una serie de tiempo\n",
        "series = pd.Series(np.random.randn(200).cumsum(), index=pd.date_range('2020-01-01', periods=200))\n",
        "\n",
        "# Realizamos el test de Dickey-Fuller\n",
        "result = adfuller(series)\n",
        "print(f'ADF Statistic: {result[0]}')\n",
        "print(f'p-value: {result[1]}')\n",
        "print(f'Critical Values:')\n",
        "for key, value in result[4].items():\n",
        "    print(f'\\t{key}: {value}')"
      ],
      "outputs": [],
      "execution_count": null,
      "metadata": {
        "noteable": {
          "cell_type": "code"
        },
        "ExecuteTime": {
          "start_time": "2023-07-09T20:59:02.881388+00:00",
          "end_time": "2023-07-09T20:59:03.048775+00:00"
        }
      },
      "id": "0cfd4d83-d361-48b5-8f65-07467f12cc80"
    },
    {
      "cell_type": "markdown",
      "source": [
        "## Ejercicios\n",
        "\n",
        "Ahora que hemos aprendido cómo generar series de tiempo estacionarias y no estacionarias, y cómo comprobar su estacionariedad utilizando el test de Dickey-Fuller, es tu turno de practicar.\n",
        "\n",
        "**Ejercicio 1:**\n",
        "\n",
        "Genera una serie de tiempo que sea una caminata aleatoria (es decir, cada valor es la suma del valor anterior y un ruido aleatorio), y comprueba si es estacionaria utilizando el test de Dickey-Fuller. Visualiza la serie de tiempo.\n",
        "\n",
        "**Ejercicio 2:**\n",
        "\n",
        "Genera una serie de tiempo que sea la suma de una tendencia y un ruido aleatorio, y comprueba si es estacionaria utilizando el test de Dickey-Fuller. Visualiza la serie de tiempo."
      ],
      "metadata": {
        "noteable": {
          "cell_type": "markdown"
        }
      },
      "id": "589baedd-6efd-40f7-a15f-7637d5eda415"
    },
    {
      "cell_type": "markdown",
      "source": [
        "## Series de Tiempo con Prophet\n",
        "\n",
        "Prophet es una biblioteca de Python desarrollada por Facebook que se utiliza para el análisis y la predicción de series de tiempo. Prophet es especialmente útil para trabajar con series de tiempo que tienen patrones fuertes de tendencia y estacionalidad, y que pueden tener puntos de cambio en su tendencia.\n",
        "\n",
        "Algunas de las ventajas de Prophet son:\n",
        "\n",
        "- **Manejo de datos faltantes:** Prophet puede manejar datos faltantes y no requiere que la serie de tiempo sea interpolada para llenar los datos faltantes.\n",
        "- **Flexibilidad:** Prophet permite al usuario especificar manualmente los puntos de cambio, en lugar de tener que confiar únicamente en la detección automática.\n",
        "- **Modelado de días festivos y eventos especiales:** Prophet permite modelar días festivos y eventos especiales que pueden afectar a la serie de tiempo.\n",
        "- **Robustez a outliers:** Prophet es robusto a los outliers y no se ve afectado significativamente por ellos.\n",
        "\n",
        "A continuación, vamos a utilizar Prophet para descomponer una serie de tiempo en su tendencia y componentes estacionales."
      ],
      "metadata": {
        "noteable": {
          "cell_type": "markdown"
        }
      },
      "id": "4a43e607-d084-4ede-ae64-41c2f83e3dd7"
    },
    {
      "cell_type": "code",
      "source": [
        "# Importamos la biblioteca Prophet\n",
        "from fbprophet import Prophet\n",
        "\n",
        "# Generamos una serie de tiempo con una tendencia y una estacionalidad\n",
        "time = pd.date_range('2020-01-01', periods=365)\n",
        "trend = np.linspace(0, 1, 365)\n",
        "seasonality = np.sin(2 * np.pi * np.arange(365) / 7)\n",
        "series = pd.Series(trend + seasonality + np.random.randn(365) * 0.1, index=time)\n",
        "df = pd.DataFrame({'ds': series.index, 'y': series.values})\n",
        "\n",
        "# Ajustamos el modelo Prophet\n",
        "model = Prophet(weekly_seasonality=True)\n",
        "model.fit(df)\n",
        "\n",
        "# Hacemos una predicción para el mismo período de tiempo\n",
        "future = model.make_future_dataframe(periods=0)\n",
        "forecast = model.predict(future)\n",
        "\n",
        "# Visualizamos la descomposición de la serie de tiempo\n",
        "model.plot_components(forecast)"
      ],
      "outputs": [],
      "execution_count": null,
      "metadata": {
        "noteable": {
          "cell_type": "code"
        },
        "ExecuteTime": {
          "start_time": "2023-07-09T21:03:34.464865+00:00",
          "end_time": "2023-07-09T21:03:34.650613+00:00"
        }
      },
      "id": "597c71cc-3dcd-407e-904f-d6b05075e20e"
    },
    {
      "cell_type": "markdown",
      "source": [
        "## Ejercicios con Prophet\n",
        "\n",
        "Ahora que hemos aprendido cómo usar Prophet para descomponer una serie de tiempo en su tendencia y componentes estacionales, es tu turno de practicar.\n",
        "\n",
        "**Ejercicio 1:**\n",
        "\n",
        "Genera una serie de tiempo que tenga una tendencia lineal y una estacionalidad semanal, y utiliza Prophet para descomponerla en su tendencia y componentes estacionales. Visualiza la descomposición.\n",
        "\n",
        "**Ejercicio 2:**\n",
        "\n",
        "Genera una serie de tiempo que tenga una tendencia no lineal y una estacionalidad diaria, y utiliza Prophet para descomponerla en su tendencia y componentes estacionales. Visualiza la descomposición."
      ],
      "metadata": {
        "noteable": {
          "cell_type": "markdown"
        }
      },
      "id": "8f825255-9516-45d5-b767-e00e136fd109"
    }
  ],
  "metadata": {
    "noteable-chatgpt": {
      "create_notebook": {
        "openai_conversation_id": "2245b788-6916-5ba8-8e39-35b860cf15da",
        "openai_ephemeral_user_id": "549e6b48-8c4a-5cf0-a3ba-a8516b0a554b"
      }
    },
    "noteable": {
      "last_delta_id": "bca76d43-cb51-4cbe-ab0d-1bff2715e1ad"
    },
    "selected_hardware_size": "small",
    "nteract": {
      "version": "noteable@2.9.0"
    }
  },
  "nbformat": 4,
  "nbformat_minor": 5
}